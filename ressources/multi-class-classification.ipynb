{
 "cells": [
  {
   "cell_type": "markdown",
   "id": "21202184",
   "metadata": {
    "id": "21202184",
    "papermill": {
     "duration": 0.012415,
     "end_time": "2022-05-26T21:44:13.579953",
     "exception": false,
     "start_time": "2022-05-26T21:44:13.567538",
     "status": "completed"
    },
    "tags": []
   },
   "source": [
    "# Projet de classification multi-classes avec classes déséquilibrées (Multi-class classification with unbalanced class) \n",
    "\n",
    "### Projet réalisé en avril 2022. Ce notebook fait office de rapport pour un projet de prédiction sur la réussite ou l'échec d'un élève à l'université portugaise. Le but est de maximiser le score F1 pondéré. Pour cela on effectue un processus complet du nettoyage des données à l'optimisation des modèles. On utilise la littérature dans le domaine de classification avec des avec classes déséquilibrées (SMOTE..).\n",
    "\n",
    "### Pour sélectionner des features, on utilisera l'importance des variables dans une RandomForest (Permutation), pour le choix des modèles on utilise le score F1 ( sur le test et l'apprentissage), la matrice de confusion et les courbes ROC-AUC.\n",
    "\n",
    "### Ce projet faisait partie d'une compétition Kaggle ou l'on devait obtenir le meilleur score F1 pondéré sur le fichier test.csv. Ce notebook est arrivé 3/100.\n",
    "\n",
    "#### On installe le package rfpimp qui n'est pas présent directement sur la machine virtuelle de Kaggle."
   ]
  },
  {
   "cell_type": "code",
   "execution_count": null,
   "id": "e3ec4055",
   "metadata": {
    "execution": {
     "iopub.execute_input": "2022-05-26T21:44:13.605703Z",
     "iopub.status.busy": "2022-05-26T21:44:13.604700Z",
     "iopub.status.idle": "2022-05-26T21:44:29.869712Z",
     "shell.execute_reply": "2022-05-26T21:44:29.868326Z"
    },
    "id": "e3ec4055",
    "outputId": "146a06d8-8d45-4348-8539-ea8e31462d66",
    "papermill": {
     "duration": 16.280944,
     "end_time": "2022-05-26T21:44:29.872467",
     "exception": false,
     "start_time": "2022-05-26T21:44:13.591523",
     "status": "completed"
    },
    "tags": []
   },
   "outputs": [
    {
     "name": "stdout",
     "output_type": "stream",
     "text": [
      "Collecting rfpimp\r\n",
      "  Downloading rfpimp-1.3.7.tar.gz (10 kB)\r\n",
      "  Preparing metadata (setup.py) ... \u001b[?25l-\b \bdone\r\n",
      "\u001b[?25hRequirement already satisfied: numpy in /opt/conda/lib/python3.7/site-packages (from rfpimp) (1.21.6)\r\n",
      "Requirement already satisfied: pandas in /opt/conda/lib/python3.7/site-packages (from rfpimp) (1.3.5)\r\n",
      "Requirement already satisfied: scikit-learn in /opt/conda/lib/python3.7/site-packages (from rfpimp) (1.0.2)\r\n",
      "Requirement already satisfied: matplotlib in /opt/conda/lib/python3.7/site-packages (from rfpimp) (3.5.2)\r\n",
      "Requirement already satisfied: fonttools>=4.22.0 in /opt/conda/lib/python3.7/site-packages (from matplotlib->rfpimp) (4.33.3)\r\n",
      "Requirement already satisfied: cycler>=0.10 in /opt/conda/lib/python3.7/site-packages (from matplotlib->rfpimp) (0.11.0)\r\n",
      "Requirement already satisfied: pillow>=6.2.0 in /opt/conda/lib/python3.7/site-packages (from matplotlib->rfpimp) (9.1.0)\r\n",
      "Requirement already satisfied: python-dateutil>=2.7 in /opt/conda/lib/python3.7/site-packages (from matplotlib->rfpimp) (2.8.2)\r\n",
      "Requirement already satisfied: kiwisolver>=1.0.1 in /opt/conda/lib/python3.7/site-packages (from matplotlib->rfpimp) (1.4.2)\r\n",
      "Requirement already satisfied: packaging>=20.0 in /opt/conda/lib/python3.7/site-packages (from matplotlib->rfpimp) (21.3)\r\n",
      "Requirement already satisfied: pyparsing>=2.2.1 in /opt/conda/lib/python3.7/site-packages (from matplotlib->rfpimp) (3.0.9)\r\n",
      "Requirement already satisfied: pytz>=2017.3 in /opt/conda/lib/python3.7/site-packages (from pandas->rfpimp) (2022.1)\r\n",
      "Requirement already satisfied: threadpoolctl>=2.0.0 in /opt/conda/lib/python3.7/site-packages (from scikit-learn->rfpimp) (3.1.0)\r\n",
      "Requirement already satisfied: joblib>=0.11 in /opt/conda/lib/python3.7/site-packages (from scikit-learn->rfpimp) (1.1.0)\r\n",
      "Requirement already satisfied: scipy>=1.1.0 in /opt/conda/lib/python3.7/site-packages (from scikit-learn->rfpimp) (1.7.3)\r\n",
      "Requirement already satisfied: typing-extensions in /opt/conda/lib/python3.7/site-packages (from kiwisolver>=1.0.1->matplotlib->rfpimp) (4.2.0)\r\n",
      "Requirement already satisfied: six>=1.5 in /opt/conda/lib/python3.7/site-packages (from python-dateutil>=2.7->matplotlib->rfpimp) (1.16.0)\r\n",
      "Building wheels for collected packages: rfpimp\r\n",
      "  Building wheel for rfpimp (setup.py) ... \u001b[?25l-\b \b\\\b \bdone\r\n",
      "\u001b[?25h  Created wheel for rfpimp: filename=rfpimp-1.3.7-py3-none-any.whl size=10669 sha256=bb9dc1d5a1a9750400321fc1c4ac95a0f0fd3990ad57ddfede32aeef4a272491\r\n",
      "  Stored in directory: /root/.cache/pip/wheels/ad/48/d9/21fc62fbeff405425b0d5dd8b0354576cdb62ac97f6b11d1ef\r\n",
      "Successfully built rfpimp\r\n",
      "Installing collected packages: rfpimp\r\n",
      "Successfully installed rfpimp-1.3.7\r\n",
      "\u001b[33mWARNING: Running pip as the 'root' user can result in broken permissions and conflicting behaviour with the system package manager. It is recommended to use a virtual environment instead: https://pip.pypa.io/warnings/venv\u001b[0m\u001b[33m\r\n",
      "\u001b[0mNote: you may need to restart the kernel to use updated packages.\n"
     ]
    }
   ],
   "source": [
    "pip install rfpimp "
   ]
  },
  {
   "cell_type": "markdown",
   "id": "0357ab4d",
   "metadata": {
    "id": "0357ab4d",
    "papermill": {
     "duration": 0.0121,
     "end_time": "2022-05-26T21:44:29.897337",
     "exception": false,
     "start_time": "2022-05-26T21:44:29.885237",
     "status": "completed"
    },
    "tags": []
   },
   "source": [
    "## 1) Importation Packages et Fonctions pour évaluer les modèles"
   ]
  },
  {
   "cell_type": "code",
   "execution_count": null,
   "id": "706e1e45",
   "metadata": {
    "execution": {
     "iopub.execute_input": "2022-05-26T21:44:29.925016Z",
     "iopub.status.busy": "2022-05-26T21:44:29.924545Z",
     "iopub.status.idle": "2022-05-26T21:44:31.627425Z",
     "shell.execute_reply": "2022-05-26T21:44:31.626278Z"
    },
    "id": "706e1e45",
    "papermill": {
     "duration": 1.720185,
     "end_time": "2022-05-26T21:44:31.629983",
     "exception": false,
     "start_time": "2022-05-26T21:44:29.909798",
     "status": "completed"
    },
    "tags": []
   },
   "outputs": [],
   "source": [
    "import pandas as pd\n",
    "import numpy as np\n",
    "import seaborn as sns\n",
    "from sklearn.preprocessing import OneHotEncoder\n",
    "\n",
    "from sklearn.metrics import f1_score\n",
    "from sklearn import metrics\n",
    "\n",
    "from sklearn.model_selection import train_test_split\n",
    "import matplotlib.pyplot as plt\n",
    "from matplotlib.pyplot import figure\n",
    "\n",
    "import warnings\n",
    "warnings.filterwarnings(\"ignore\")\n",
    "\n",
    "from itertools import cycle\n",
    "from sklearn.metrics import roc_curve, auc\n",
    "from sklearn.preprocessing import label_binarize\n",
    "from sklearn.datasets import  make_classification\n",
    "\n",
    "from sklearn.multiclass import OneVsRestClassifier\n",
    "import scipy as sc\n",
    "from sklearn.pipeline import make_pipeline\n",
    "from sklearn.linear_model import LogisticRegression\n",
    "from sklearn.model_selection import RandomizedSearchCV"
   ]
  },
  {
   "cell_type": "code",
   "execution_count": null,
   "id": "c28cdf38",
   "metadata": {
    "execution": {
     "iopub.execute_input": "2022-05-26T21:44:31.657079Z",
     "iopub.status.busy": "2022-05-26T21:44:31.656234Z",
     "iopub.status.idle": "2022-05-26T21:44:31.676994Z",
     "shell.execute_reply": "2022-05-26T21:44:31.675733Z"
    },
    "id": "c28cdf38",
    "papermill": {
     "duration": 0.036517,
     "end_time": "2022-05-26T21:44:31.678993",
     "exception": false,
     "start_time": "2022-05-26T21:44:31.642476",
     "status": "completed"
    },
    "tags": []
   },
   "outputs": [],
   "source": [
    "def score_f1(y,y_pred):#Fonction qui renvoie le score F_1 par classe puis le score F_1 global en fonction du poids des classes\n",
    "    f_1=f1_score(y,y_pred,average=None)\n",
    "    f_1=np.round(f_1,3)\n",
    "    \n",
    "    print(\"Le score F_1 pour la classe Dropout est de \",f_1[0])\n",
    "    print(\"Le score F_1 pour la classe Enrolled est de \",f_1[1])\n",
    "    print(\"Le score F_1 pour la classe Graduate est de \",f_1[2])\n",
    "    \n",
    "    print()\n",
    "    f_1_glob=np.round(f1_score(y,y_pred,average='weighted'),3)\n",
    "    print(\"Le score F_1 global (en prenant en compte la taille des classes) est de \",f_1_glob)\n",
    "    return\n",
    "\n",
    "def matrice_conf(y,y_pred): #Fonction qui affiche la matrice de confusion\n",
    "    print()\n",
    "    print(\"La matrice de confusion : \")\n",
    "    print()\n",
    "    cf=metrics.confusion_matrix(y,y_pred)\n",
    "    sns.heatmap(cf,annot=True,cmap='Greens',fmt='g')\n",
    "    return\n",
    "\n",
    "def sur_apprentissage(y,model,train): #Fonction pour mesurer l'apprentissage d'un modèle (overfitting par exemple)\n",
    "    print()\n",
    "    print(\"Apprentissage sur l'ensemble train : \")\n",
    "    pred=model.predict(train)\n",
    "    f_1=f1_score(y,pred,average=None)\n",
    "    f_1=np.round(f_1,2)\n",
    "    print(\"Score F_1 par classe sur l'ensemble d'apprentissage : \",f_1)\n",
    "    \n",
    "    f_1_glob=np.round(f1_score(y,pred,average='weighted'),2)\n",
    "    print(\"Le score F_1 global sur l'ensemble d'apprentissage :\",f_1_glob)\n",
    "\n",
    "    \n",
    "def plot_multiclass_roc(clf, X_test, y_test, n_classes,X_train,y_train): #Fonction trouvé sur internet \n",
    "    #affiche les courbes roc-auc pour chaque classe\n",
    "    #Tres intéressant pour calculer l'apprentissage de chaque classe pour un modèle\n",
    "\n",
    "    clf=OneVsRestClassifier(clf)\n",
    "    clf.fit(X_train,y_train)\n",
    "    y_score = clf.predict_proba(X_test)\n",
    "\n",
    "    fpr = dict()\n",
    "    tpr = dict()\n",
    "    roc_auc = dict()\n",
    "\n",
    "    \n",
    "    y_test_dummies = pd.get_dummies(y_test, drop_first=False).values\n",
    "    for i in range(n_classes):\n",
    "        fpr[i], tpr[i], _ = roc_curve(y_test_dummies[:, i], y_score[:, i])\n",
    "        roc_auc[i] = auc(fpr[i], tpr[i])\n",
    "\n",
    "    fig, ax = plt.subplots(figsize=(10,6))\n",
    "    ax.plot([0, 1], [0, 1], 'k--')\n",
    "    ax.set_xlim([0.0, 1.0])\n",
    "    ax.set_ylim([0.0, 1.05])\n",
    "    ax.set_xlabel('False Positive Rate')\n",
    "    ax.set_ylabel('True Positive Rate')\n",
    "    ax.set_title('ROC')\n",
    "    for i in range(n_classes):\n",
    "        ax.plot(fpr[i], tpr[i], label='ROC-AUC curve (area = %0.2f) for label %i' % (roc_auc[i], i))\n",
    "    ax.legend(loc=\"best\")\n",
    "    ax.grid(alpha=.4)\n",
    "    sns.despine()\n",
    "    plt.show()\n",
    "    return"
   ]
  },
  {
   "cell_type": "markdown",
   "id": "9407f162",
   "metadata": {
    "id": "9407f162",
    "papermill": {
     "duration": 0.012116,
     "end_time": "2022-05-26T21:44:31.703876",
     "exception": false,
     "start_time": "2022-05-26T21:44:31.691760",
     "status": "completed"
    },
    "tags": []
   },
   "source": [
    "## 2) Importation des données et premières visualisations"
   ]
  },
  {
   "cell_type": "code",
   "execution_count": null,
   "id": "351740d2",
   "metadata": {
    "execution": {
     "iopub.execute_input": "2022-05-26T21:44:31.730457Z",
     "iopub.status.busy": "2022-05-26T21:44:31.730007Z",
     "iopub.status.idle": "2022-05-26T21:44:31.807952Z",
     "shell.execute_reply": "2022-05-26T21:44:31.806958Z"
    },
    "id": "351740d2",
    "outputId": "7ec1ced5-1c3f-4c5e-97ba-121de5f31895",
    "papermill": {
     "duration": 0.093754,
     "end_time": "2022-05-26T21:44:31.809967",
     "exception": false,
     "start_time": "2022-05-26T21:44:31.716213",
     "status": "completed"
    },
    "tags": []
   },
   "outputs": [
    {
     "data": {
      "text/html": [
       "<div>\n",
       "<style scoped>\n",
       "    .dataframe tbody tr th:only-of-type {\n",
       "        vertical-align: middle;\n",
       "    }\n",
       "\n",
       "    .dataframe tbody tr th {\n",
       "        vertical-align: top;\n",
       "    }\n",
       "\n",
       "    .dataframe thead th {\n",
       "        text-align: right;\n",
       "    }\n",
       "</style>\n",
       "<table border=\"1\" class=\"dataframe\">\n",
       "  <thead>\n",
       "    <tr style=\"text-align: right;\">\n",
       "      <th></th>\n",
       "      <th>StudentId</th>\n",
       "      <th>Marital status</th>\n",
       "      <th>Application mode</th>\n",
       "      <th>Application order</th>\n",
       "      <th>Course</th>\n",
       "      <th>Daytime/evening attendance\\t</th>\n",
       "      <th>Previous qualification</th>\n",
       "      <th>Previous qualification (grade)</th>\n",
       "      <th>Nationality</th>\n",
       "      <th>Mother's qualification</th>\n",
       "      <th>...</th>\n",
       "      <th>Curricular units 2nd sem (credited)</th>\n",
       "      <th>Curricular units 2nd sem (enrolled)</th>\n",
       "      <th>Curricular units 2nd sem (evaluations)</th>\n",
       "      <th>Curricular units 2nd sem (approved)</th>\n",
       "      <th>Curricular units 2nd sem (grade)</th>\n",
       "      <th>Curricular units 2nd sem (without evaluations)</th>\n",
       "      <th>Unemployment rate</th>\n",
       "      <th>Inflation rate</th>\n",
       "      <th>GDP</th>\n",
       "      <th>Target</th>\n",
       "    </tr>\n",
       "  </thead>\n",
       "  <tbody>\n",
       "    <tr>\n",
       "      <th>0</th>\n",
       "      <td>1</td>\n",
       "      <td>1</td>\n",
       "      <td>51</td>\n",
       "      <td>1</td>\n",
       "      <td>33</td>\n",
       "      <td>1</td>\n",
       "      <td>1</td>\n",
       "      <td>130.0</td>\n",
       "      <td>1</td>\n",
       "      <td>19</td>\n",
       "      <td>...</td>\n",
       "      <td>5</td>\n",
       "      <td>10</td>\n",
       "      <td>11</td>\n",
       "      <td>5</td>\n",
       "      <td>11.000000</td>\n",
       "      <td>0</td>\n",
       "      <td>11.1</td>\n",
       "      <td>0.6</td>\n",
       "      <td>2.02</td>\n",
       "      <td>Dropout</td>\n",
       "    </tr>\n",
       "    <tr>\n",
       "      <th>1</th>\n",
       "      <td>2</td>\n",
       "      <td>4</td>\n",
       "      <td>43</td>\n",
       "      <td>1</td>\n",
       "      <td>9238</td>\n",
       "      <td>1</td>\n",
       "      <td>1</td>\n",
       "      <td>120.0</td>\n",
       "      <td>1</td>\n",
       "      <td>37</td>\n",
       "      <td>...</td>\n",
       "      <td>0</td>\n",
       "      <td>6</td>\n",
       "      <td>8</td>\n",
       "      <td>4</td>\n",
       "      <td>13.750000</td>\n",
       "      <td>0</td>\n",
       "      <td>13.9</td>\n",
       "      <td>-0.3</td>\n",
       "      <td>0.79</td>\n",
       "      <td>Graduate</td>\n",
       "    </tr>\n",
       "    <tr>\n",
       "      <th>2</th>\n",
       "      <td>3</td>\n",
       "      <td>1</td>\n",
       "      <td>1</td>\n",
       "      <td>1</td>\n",
       "      <td>9130</td>\n",
       "      <td>1</td>\n",
       "      <td>1</td>\n",
       "      <td>140.0</td>\n",
       "      <td>1</td>\n",
       "      <td>4</td>\n",
       "      <td>...</td>\n",
       "      <td>0</td>\n",
       "      <td>6</td>\n",
       "      <td>9</td>\n",
       "      <td>6</td>\n",
       "      <td>14.857143</td>\n",
       "      <td>0</td>\n",
       "      <td>11.1</td>\n",
       "      <td>0.6</td>\n",
       "      <td>2.02</td>\n",
       "      <td>Graduate</td>\n",
       "    </tr>\n",
       "    <tr>\n",
       "      <th>3</th>\n",
       "      <td>4</td>\n",
       "      <td>1</td>\n",
       "      <td>17</td>\n",
       "      <td>2</td>\n",
       "      <td>9147</td>\n",
       "      <td>1</td>\n",
       "      <td>1</td>\n",
       "      <td>118.0</td>\n",
       "      <td>1</td>\n",
       "      <td>19</td>\n",
       "      <td>...</td>\n",
       "      <td>0</td>\n",
       "      <td>5</td>\n",
       "      <td>8</td>\n",
       "      <td>3</td>\n",
       "      <td>10.000000</td>\n",
       "      <td>0</td>\n",
       "      <td>11.1</td>\n",
       "      <td>0.6</td>\n",
       "      <td>2.02</td>\n",
       "      <td>Enrolled</td>\n",
       "    </tr>\n",
       "    <tr>\n",
       "      <th>4</th>\n",
       "      <td>5</td>\n",
       "      <td>1</td>\n",
       "      <td>53</td>\n",
       "      <td>1</td>\n",
       "      <td>9085</td>\n",
       "      <td>1</td>\n",
       "      <td>42</td>\n",
       "      <td>140.0</td>\n",
       "      <td>1</td>\n",
       "      <td>1</td>\n",
       "      <td>...</td>\n",
       "      <td>4</td>\n",
       "      <td>9</td>\n",
       "      <td>13</td>\n",
       "      <td>7</td>\n",
       "      <td>14.285714</td>\n",
       "      <td>0</td>\n",
       "      <td>8.9</td>\n",
       "      <td>1.4</td>\n",
       "      <td>3.51</td>\n",
       "      <td>Graduate</td>\n",
       "    </tr>\n",
       "  </tbody>\n",
       "</table>\n",
       "<p>5 rows × 38 columns</p>\n",
       "</div>"
      ],
      "text/plain": [
       "   StudentId  Marital status  Application mode  Application order  Course  \\\n",
       "0          1               1                51                  1      33   \n",
       "1          2               4                43                  1    9238   \n",
       "2          3               1                 1                  1    9130   \n",
       "3          4               1                17                  2    9147   \n",
       "4          5               1                53                  1    9085   \n",
       "\n",
       "   Daytime/evening attendance\\t  Previous qualification  \\\n",
       "0                             1                       1   \n",
       "1                             1                       1   \n",
       "2                             1                       1   \n",
       "3                             1                       1   \n",
       "4                             1                      42   \n",
       "\n",
       "   Previous qualification (grade)  Nationality  Mother's qualification  ...  \\\n",
       "0                           130.0            1                      19  ...   \n",
       "1                           120.0            1                      37  ...   \n",
       "2                           140.0            1                       4  ...   \n",
       "3                           118.0            1                      19  ...   \n",
       "4                           140.0            1                       1  ...   \n",
       "\n",
       "   Curricular units 2nd sem (credited)  Curricular units 2nd sem (enrolled)  \\\n",
       "0                                    5                                   10   \n",
       "1                                    0                                    6   \n",
       "2                                    0                                    6   \n",
       "3                                    0                                    5   \n",
       "4                                    4                                    9   \n",
       "\n",
       "   Curricular units 2nd sem (evaluations)  \\\n",
       "0                                      11   \n",
       "1                                       8   \n",
       "2                                       9   \n",
       "3                                       8   \n",
       "4                                      13   \n",
       "\n",
       "   Curricular units 2nd sem (approved)  Curricular units 2nd sem (grade)  \\\n",
       "0                                    5                         11.000000   \n",
       "1                                    4                         13.750000   \n",
       "2                                    6                         14.857143   \n",
       "3                                    3                         10.000000   \n",
       "4                                    7                         14.285714   \n",
       "\n",
       "   Curricular units 2nd sem (without evaluations)  Unemployment rate  \\\n",
       "0                                               0               11.1   \n",
       "1                                               0               13.9   \n",
       "2                                               0               11.1   \n",
       "3                                               0               11.1   \n",
       "4                                               0                8.9   \n",
       "\n",
       "   Inflation rate   GDP    Target  \n",
       "0             0.6  2.02   Dropout  \n",
       "1            -0.3  0.79  Graduate  \n",
       "2             0.6  2.02  Graduate  \n",
       "3             0.6  2.02  Enrolled  \n",
       "4             1.4  3.51  Graduate  \n",
       "\n",
       "[5 rows x 38 columns]"
      ]
     },
     "execution_count": 4,
     "metadata": {},
     "output_type": "execute_result"
    }
   ],
   "source": [
    "data_train=pd.read_csv(\"../input/studentgraduation/train.csv\")\n",
    "data_train.head()"
   ]
  },
  {
   "cell_type": "code",
   "execution_count": null,
   "id": "41b9c05f",
   "metadata": {
    "execution": {
     "iopub.execute_input": "2022-05-26T21:44:31.837326Z",
     "iopub.status.busy": "2022-05-26T21:44:31.836892Z",
     "iopub.status.idle": "2022-05-26T21:44:31.848729Z",
     "shell.execute_reply": "2022-05-26T21:44:31.847865Z"
    },
    "id": "41b9c05f",
    "outputId": "9e75e2b7-07e9-4cda-e3f9-4cdbfece08aa",
    "papermill": {
     "duration": 0.027846,
     "end_time": "2022-05-26T21:44:31.850696",
     "exception": false,
     "start_time": "2022-05-26T21:44:31.822850",
     "status": "completed"
    },
    "tags": []
   },
   "outputs": [
    {
     "data": {
      "text/plain": [
       "(3096, 37)"
      ]
     },
     "execution_count": 5,
     "metadata": {},
     "output_type": "execute_result"
    }
   ],
   "source": [
    "data_train.drop(\"StudentId\",axis=1,inplace=True)\n",
    "data_train.shape"
   ]
  },
  {
   "cell_type": "markdown",
   "id": "1ce22b0e",
   "metadata": {
    "id": "1ce22b0e",
    "papermill": {
     "duration": 0.012622,
     "end_time": "2022-05-26T21:44:31.876362",
     "exception": false,
     "start_time": "2022-05-26T21:44:31.863740",
     "status": "completed"
    },
    "tags": []
   },
   "source": [
    "#### On a un jeu de données avec 3096 observations et 37 colonnes (on la colonne enlève studendId)."
   ]
  },
  {
   "cell_type": "code",
   "execution_count": null,
   "id": "bbaba6d0",
   "metadata": {
    "execution": {
     "iopub.execute_input": "2022-05-26T21:44:31.904825Z",
     "iopub.status.busy": "2022-05-26T21:44:31.904363Z",
     "iopub.status.idle": "2022-05-26T21:44:31.914234Z",
     "shell.execute_reply": "2022-05-26T21:44:31.913500Z"
    },
    "id": "bbaba6d0",
    "outputId": "b74c9803-cb5e-465b-a0d6-8f73ac9a0a5b",
    "papermill": {
     "duration": 0.026412,
     "end_time": "2022-05-26T21:44:31.916258",
     "exception": false,
     "start_time": "2022-05-26T21:44:31.889846",
     "status": "completed"
    },
    "tags": []
   },
   "outputs": [
    {
     "data": {
      "text/plain": [
       "Marital status                                    0\n",
       "Application mode                                  0\n",
       "Application order                                 0\n",
       "Course                                            0\n",
       "Daytime/evening attendance\\t                      0\n",
       "Previous qualification                            0\n",
       "Previous qualification (grade)                    0\n",
       "Nationality                                       0\n",
       "Mother's qualification                            0\n",
       "Father's qualification                            0\n",
       "Mother's occupation                               0\n",
       "Father's occupation                               0\n",
       "Admission grade                                   0\n",
       "Displaced                                         0\n",
       "Educational special needs                         0\n",
       "Debtor                                            0\n",
       "Tuition fees up to date                           0\n",
       "Gender                                            0\n",
       "Scholarship holder                                0\n",
       "Age at enrollment                                 0\n",
       "International                                     0\n",
       "Curricular units 1st sem (credited)               0\n",
       "Curricular units 1st sem (enrolled)               0\n",
       "Curricular units 1st sem (evaluations)            0\n",
       "Curricular units 1st sem (approved)               0\n",
       "Curricular units 1st sem (grade)                  0\n",
       "Curricular units 1st sem (without evaluations)    0\n",
       "Curricular units 2nd sem (credited)               0\n",
       "Curricular units 2nd sem (enrolled)               0\n",
       "Curricular units 2nd sem (evaluations)            0\n",
       "Curricular units 2nd sem (approved)               0\n",
       "Curricular units 2nd sem (grade)                  0\n",
       "Curricular units 2nd sem (without evaluations)    0\n",
       "Unemployment rate                                 0\n",
       "Inflation rate                                    0\n",
       "GDP                                               0\n",
       "Target                                            0\n",
       "dtype: int64"
      ]
     },
     "execution_count": 6,
     "metadata": {},
     "output_type": "execute_result"
    }
   ],
   "source": [
    "data_train.isna().sum()"
   ]
  },
  {
   "cell_type": "markdown",
   "id": "d69e5dfa",
   "metadata": {
    "id": "d69e5dfa",
    "papermill": {
     "duration": 0.013597,
     "end_time": "2022-05-26T21:44:31.943227",
     "exception": false,
     "start_time": "2022-05-26T21:44:31.929630",
     "status": "completed"
    },
    "tags": []
   },
   "source": [
    "#### Pas de données manquantes."
   ]
  },
  {
   "cell_type": "code",
   "execution_count": null,
   "id": "bb8712c0",
   "metadata": {
    "execution": {
     "iopub.execute_input": "2022-05-26T21:44:31.972236Z",
     "iopub.status.busy": "2022-05-26T21:44:31.971549Z",
     "iopub.status.idle": "2022-05-26T21:44:32.088663Z",
     "shell.execute_reply": "2022-05-26T21:44:32.087835Z"
    },
    "id": "bb8712c0",
    "outputId": "63b96613-d065-414d-a5f7-1031384c6544",
    "papermill": {
     "duration": 0.134061,
     "end_time": "2022-05-26T21:44:32.090842",
     "exception": false,
     "start_time": "2022-05-26T21:44:31.956781",
     "status": "completed"
    },
    "scrolled": true,
    "tags": []
   },
   "outputs": [
    {
     "data": {
      "text/html": [
       "<div>\n",
       "<style scoped>\n",
       "    .dataframe tbody tr th:only-of-type {\n",
       "        vertical-align: middle;\n",
       "    }\n",
       "\n",
       "    .dataframe tbody tr th {\n",
       "        vertical-align: top;\n",
       "    }\n",
       "\n",
       "    .dataframe thead th {\n",
       "        text-align: right;\n",
       "    }\n",
       "</style>\n",
       "<table border=\"1\" class=\"dataframe\">\n",
       "  <thead>\n",
       "    <tr style=\"text-align: right;\">\n",
       "      <th></th>\n",
       "      <th>Marital status</th>\n",
       "      <th>Application mode</th>\n",
       "      <th>Application order</th>\n",
       "      <th>Course</th>\n",
       "      <th>Daytime/evening attendance\\t</th>\n",
       "      <th>Previous qualification</th>\n",
       "      <th>Previous qualification (grade)</th>\n",
       "      <th>Nationality</th>\n",
       "      <th>Mother's qualification</th>\n",
       "      <th>Father's qualification</th>\n",
       "      <th>...</th>\n",
       "      <th>Curricular units 1st sem (without evaluations)</th>\n",
       "      <th>Curricular units 2nd sem (credited)</th>\n",
       "      <th>Curricular units 2nd sem (enrolled)</th>\n",
       "      <th>Curricular units 2nd sem (evaluations)</th>\n",
       "      <th>Curricular units 2nd sem (approved)</th>\n",
       "      <th>Curricular units 2nd sem (grade)</th>\n",
       "      <th>Curricular units 2nd sem (without evaluations)</th>\n",
       "      <th>Unemployment rate</th>\n",
       "      <th>Inflation rate</th>\n",
       "      <th>GDP</th>\n",
       "    </tr>\n",
       "  </thead>\n",
       "  <tbody>\n",
       "    <tr>\n",
       "      <th>count</th>\n",
       "      <td>3096.000000</td>\n",
       "      <td>3096.000000</td>\n",
       "      <td>3096.000000</td>\n",
       "      <td>3096.000000</td>\n",
       "      <td>3096.000000</td>\n",
       "      <td>3096.000000</td>\n",
       "      <td>3096.000000</td>\n",
       "      <td>3096.000000</td>\n",
       "      <td>3096.000000</td>\n",
       "      <td>3096.000000</td>\n",
       "      <td>...</td>\n",
       "      <td>3096.000000</td>\n",
       "      <td>3096.000000</td>\n",
       "      <td>3096.000000</td>\n",
       "      <td>3096.000000</td>\n",
       "      <td>3096.000000</td>\n",
       "      <td>3096.000000</td>\n",
       "      <td>3096.000000</td>\n",
       "      <td>3096.000000</td>\n",
       "      <td>3096.000000</td>\n",
       "      <td>3096.000000</td>\n",
       "    </tr>\n",
       "    <tr>\n",
       "      <th>mean</th>\n",
       "      <td>1.182494</td>\n",
       "      <td>18.661822</td>\n",
       "      <td>1.710271</td>\n",
       "      <td>8873.215116</td>\n",
       "      <td>0.881460</td>\n",
       "      <td>4.363049</td>\n",
       "      <td>132.347933</td>\n",
       "      <td>1.904716</td>\n",
       "      <td>19.559755</td>\n",
       "      <td>22.451227</td>\n",
       "      <td>...</td>\n",
       "      <td>0.137597</td>\n",
       "      <td>0.543605</td>\n",
       "      <td>6.213178</td>\n",
       "      <td>8.003876</td>\n",
       "      <td>4.450581</td>\n",
       "      <td>10.247850</td>\n",
       "      <td>0.152778</td>\n",
       "      <td>11.523934</td>\n",
       "      <td>1.250291</td>\n",
       "      <td>0.018634</td>\n",
       "    </tr>\n",
       "    <tr>\n",
       "      <th>std</th>\n",
       "      <td>0.609534</td>\n",
       "      <td>17.534724</td>\n",
       "      <td>1.295090</td>\n",
       "      <td>2036.120839</td>\n",
       "      <td>0.323299</td>\n",
       "      <td>9.932176</td>\n",
       "      <td>13.006996</td>\n",
       "      <td>7.164598</td>\n",
       "      <td>15.606851</td>\n",
       "      <td>15.357628</td>\n",
       "      <td>...</td>\n",
       "      <td>0.686680</td>\n",
       "      <td>1.889698</td>\n",
       "      <td>2.154853</td>\n",
       "      <td>3.834962</td>\n",
       "      <td>2.995659</td>\n",
       "      <td>5.204218</td>\n",
       "      <td>0.738670</td>\n",
       "      <td>2.654136</td>\n",
       "      <td>1.393145</td>\n",
       "      <td>2.260256</td>\n",
       "    </tr>\n",
       "    <tr>\n",
       "      <th>min</th>\n",
       "      <td>1.000000</td>\n",
       "      <td>1.000000</td>\n",
       "      <td>0.000000</td>\n",
       "      <td>33.000000</td>\n",
       "      <td>0.000000</td>\n",
       "      <td>1.000000</td>\n",
       "      <td>95.000000</td>\n",
       "      <td>1.000000</td>\n",
       "      <td>1.000000</td>\n",
       "      <td>1.000000</td>\n",
       "      <td>...</td>\n",
       "      <td>0.000000</td>\n",
       "      <td>0.000000</td>\n",
       "      <td>0.000000</td>\n",
       "      <td>0.000000</td>\n",
       "      <td>0.000000</td>\n",
       "      <td>0.000000</td>\n",
       "      <td>0.000000</td>\n",
       "      <td>7.600000</td>\n",
       "      <td>-0.800000</td>\n",
       "      <td>-4.060000</td>\n",
       "    </tr>\n",
       "    <tr>\n",
       "      <th>25%</th>\n",
       "      <td>1.000000</td>\n",
       "      <td>1.000000</td>\n",
       "      <td>1.000000</td>\n",
       "      <td>9085.000000</td>\n",
       "      <td>1.000000</td>\n",
       "      <td>1.000000</td>\n",
       "      <td>124.000000</td>\n",
       "      <td>1.000000</td>\n",
       "      <td>2.000000</td>\n",
       "      <td>3.000000</td>\n",
       "      <td>...</td>\n",
       "      <td>0.000000</td>\n",
       "      <td>0.000000</td>\n",
       "      <td>5.000000</td>\n",
       "      <td>6.000000</td>\n",
       "      <td>2.000000</td>\n",
       "      <td>10.800000</td>\n",
       "      <td>0.000000</td>\n",
       "      <td>9.400000</td>\n",
       "      <td>0.300000</td>\n",
       "      <td>-1.700000</td>\n",
       "    </tr>\n",
       "    <tr>\n",
       "      <th>50%</th>\n",
       "      <td>1.000000</td>\n",
       "      <td>17.000000</td>\n",
       "      <td>1.000000</td>\n",
       "      <td>9238.000000</td>\n",
       "      <td>1.000000</td>\n",
       "      <td>1.000000</td>\n",
       "      <td>133.000000</td>\n",
       "      <td>1.000000</td>\n",
       "      <td>19.000000</td>\n",
       "      <td>19.000000</td>\n",
       "      <td>...</td>\n",
       "      <td>0.000000</td>\n",
       "      <td>0.000000</td>\n",
       "      <td>6.000000</td>\n",
       "      <td>8.000000</td>\n",
       "      <td>5.000000</td>\n",
       "      <td>12.250000</td>\n",
       "      <td>0.000000</td>\n",
       "      <td>11.100000</td>\n",
       "      <td>1.400000</td>\n",
       "      <td>0.320000</td>\n",
       "    </tr>\n",
       "    <tr>\n",
       "      <th>75%</th>\n",
       "      <td>1.000000</td>\n",
       "      <td>39.000000</td>\n",
       "      <td>2.000000</td>\n",
       "      <td>9556.000000</td>\n",
       "      <td>1.000000</td>\n",
       "      <td>1.000000</td>\n",
       "      <td>140.000000</td>\n",
       "      <td>1.000000</td>\n",
       "      <td>37.000000</td>\n",
       "      <td>37.000000</td>\n",
       "      <td>...</td>\n",
       "      <td>0.000000</td>\n",
       "      <td>0.000000</td>\n",
       "      <td>7.000000</td>\n",
       "      <td>10.000000</td>\n",
       "      <td>6.000000</td>\n",
       "      <td>13.333333</td>\n",
       "      <td>0.000000</td>\n",
       "      <td>13.000000</td>\n",
       "      <td>2.600000</td>\n",
       "      <td>1.790000</td>\n",
       "    </tr>\n",
       "    <tr>\n",
       "      <th>max</th>\n",
       "      <td>6.000000</td>\n",
       "      <td>57.000000</td>\n",
       "      <td>9.000000</td>\n",
       "      <td>9991.000000</td>\n",
       "      <td>1.000000</td>\n",
       "      <td>43.000000</td>\n",
       "      <td>184.400000</td>\n",
       "      <td>109.000000</td>\n",
       "      <td>43.000000</td>\n",
       "      <td>44.000000</td>\n",
       "      <td>...</td>\n",
       "      <td>12.000000</td>\n",
       "      <td>18.000000</td>\n",
       "      <td>23.000000</td>\n",
       "      <td>28.000000</td>\n",
       "      <td>20.000000</td>\n",
       "      <td>18.571429</td>\n",
       "      <td>8.000000</td>\n",
       "      <td>16.200000</td>\n",
       "      <td>3.700000</td>\n",
       "      <td>3.510000</td>\n",
       "    </tr>\n",
       "  </tbody>\n",
       "</table>\n",
       "<p>8 rows × 36 columns</p>\n",
       "</div>"
      ],
      "text/plain": [
       "       Marital status  Application mode  Application order       Course  \\\n",
       "count     3096.000000       3096.000000        3096.000000  3096.000000   \n",
       "mean         1.182494         18.661822           1.710271  8873.215116   \n",
       "std          0.609534         17.534724           1.295090  2036.120839   \n",
       "min          1.000000          1.000000           0.000000    33.000000   \n",
       "25%          1.000000          1.000000           1.000000  9085.000000   \n",
       "50%          1.000000         17.000000           1.000000  9238.000000   \n",
       "75%          1.000000         39.000000           2.000000  9556.000000   \n",
       "max          6.000000         57.000000           9.000000  9991.000000   \n",
       "\n",
       "       Daytime/evening attendance\\t  Previous qualification  \\\n",
       "count                   3096.000000             3096.000000   \n",
       "mean                       0.881460                4.363049   \n",
       "std                        0.323299                9.932176   \n",
       "min                        0.000000                1.000000   \n",
       "25%                        1.000000                1.000000   \n",
       "50%                        1.000000                1.000000   \n",
       "75%                        1.000000                1.000000   \n",
       "max                        1.000000               43.000000   \n",
       "\n",
       "       Previous qualification (grade)  Nationality  Mother's qualification  \\\n",
       "count                     3096.000000  3096.000000             3096.000000   \n",
       "mean                       132.347933     1.904716               19.559755   \n",
       "std                         13.006996     7.164598               15.606851   \n",
       "min                         95.000000     1.000000                1.000000   \n",
       "25%                        124.000000     1.000000                2.000000   \n",
       "50%                        133.000000     1.000000               19.000000   \n",
       "75%                        140.000000     1.000000               37.000000   \n",
       "max                        184.400000   109.000000               43.000000   \n",
       "\n",
       "       Father's qualification  ...  \\\n",
       "count             3096.000000  ...   \n",
       "mean                22.451227  ...   \n",
       "std                 15.357628  ...   \n",
       "min                  1.000000  ...   \n",
       "25%                  3.000000  ...   \n",
       "50%                 19.000000  ...   \n",
       "75%                 37.000000  ...   \n",
       "max                 44.000000  ...   \n",
       "\n",
       "       Curricular units 1st sem (without evaluations)  \\\n",
       "count                                     3096.000000   \n",
       "mean                                         0.137597   \n",
       "std                                          0.686680   \n",
       "min                                          0.000000   \n",
       "25%                                          0.000000   \n",
       "50%                                          0.000000   \n",
       "75%                                          0.000000   \n",
       "max                                         12.000000   \n",
       "\n",
       "       Curricular units 2nd sem (credited)  \\\n",
       "count                          3096.000000   \n",
       "mean                              0.543605   \n",
       "std                               1.889698   \n",
       "min                               0.000000   \n",
       "25%                               0.000000   \n",
       "50%                               0.000000   \n",
       "75%                               0.000000   \n",
       "max                              18.000000   \n",
       "\n",
       "       Curricular units 2nd sem (enrolled)  \\\n",
       "count                          3096.000000   \n",
       "mean                              6.213178   \n",
       "std                               2.154853   \n",
       "min                               0.000000   \n",
       "25%                               5.000000   \n",
       "50%                               6.000000   \n",
       "75%                               7.000000   \n",
       "max                              23.000000   \n",
       "\n",
       "       Curricular units 2nd sem (evaluations)  \\\n",
       "count                             3096.000000   \n",
       "mean                                 8.003876   \n",
       "std                                  3.834962   \n",
       "min                                  0.000000   \n",
       "25%                                  6.000000   \n",
       "50%                                  8.000000   \n",
       "75%                                 10.000000   \n",
       "max                                 28.000000   \n",
       "\n",
       "       Curricular units 2nd sem (approved)  Curricular units 2nd sem (grade)  \\\n",
       "count                          3096.000000                       3096.000000   \n",
       "mean                              4.450581                         10.247850   \n",
       "std                               2.995659                          5.204218   \n",
       "min                               0.000000                          0.000000   \n",
       "25%                               2.000000                         10.800000   \n",
       "50%                               5.000000                         12.250000   \n",
       "75%                               6.000000                         13.333333   \n",
       "max                              20.000000                         18.571429   \n",
       "\n",
       "       Curricular units 2nd sem (without evaluations)  Unemployment rate  \\\n",
       "count                                     3096.000000        3096.000000   \n",
       "mean                                         0.152778          11.523934   \n",
       "std                                          0.738670           2.654136   \n",
       "min                                          0.000000           7.600000   \n",
       "25%                                          0.000000           9.400000   \n",
       "50%                                          0.000000          11.100000   \n",
       "75%                                          0.000000          13.000000   \n",
       "max                                          8.000000          16.200000   \n",
       "\n",
       "       Inflation rate          GDP  \n",
       "count     3096.000000  3096.000000  \n",
       "mean         1.250291     0.018634  \n",
       "std          1.393145     2.260256  \n",
       "min         -0.800000    -4.060000  \n",
       "25%          0.300000    -1.700000  \n",
       "50%          1.400000     0.320000  \n",
       "75%          2.600000     1.790000  \n",
       "max          3.700000     3.510000  \n",
       "\n",
       "[8 rows x 36 columns]"
      ]
     },
     "execution_count": 7,
     "metadata": {},
     "output_type": "execute_result"
    }
   ],
   "source": [
    "data_train.describe()"
   ]
  },
  {
   "cell_type": "markdown",
   "id": "692022d8",
   "metadata": {
    "id": "692022d8",
    "papermill": {
     "duration": 0.013852,
     "end_time": "2022-05-26T21:44:32.118468",
     "exception": false,
     "start_time": "2022-05-26T21:44:32.104616",
     "status": "completed"
    },
    "tags": []
   },
   "source": [
    "#### Grâce à l'énoncé et à la fonctions describe on remarque que des variables sont catégorielles, certaines binaires et d'autres continues. Les variables continues ont des echelles différentes on peut les standardiser, on observe aussi des variables catégorielles que l'on peut encoder à l'aide du OneHotEncoding par exemple.\n",
    "\n",
    "#### On s'intéresse maintenant à la variable Target (notre label à prédire). On commence par encoder Target avec un LabelEncoder puis on regarde la répartition des classes."
   ]
  },
  {
   "cell_type": "code",
   "execution_count": null,
   "id": "87a4eb56",
   "metadata": {
    "execution": {
     "iopub.execute_input": "2022-05-26T21:44:32.149265Z",
     "iopub.status.busy": "2022-05-26T21:44:32.148704Z",
     "iopub.status.idle": "2022-05-26T21:44:32.441774Z",
     "shell.execute_reply": "2022-05-26T21:44:32.440725Z"
    },
    "id": "87a4eb56",
    "outputId": "8715d2a4-c714-4f5e-a2eb-d169fbc244b8",
    "papermill": {
     "duration": 0.313771,
     "end_time": "2022-05-26T21:44:32.445973",
     "exception": false,
     "start_time": "2022-05-26T21:44:32.132202",
     "status": "completed"
    },
    "tags": []
   },
   "outputs": [
    {
     "data": {
      "text/plain": [
       "<seaborn.axisgrid.FacetGrid at 0x7fd7e080a810>"
      ]
     },
     "execution_count": 8,
     "metadata": {},
     "output_type": "execute_result"
    },
    {
     "data": {
      "image/png": "[encoded data removed]",
      "text/plain": [
       "<Figure size 360x360 with 1 Axes>"
      ]
     },
     "metadata": {
      "needs_background": "light"
     },
     "output_type": "display_data"
    }
   ],
   "source": [
    "data_train[\"Target\"]= data_train[\"Target\"].astype('category')\n",
    "data_train[\"Target\"] = data_train[\"Target\"].cat.codes\n",
    "\n",
    "plt2=sns.catplot(x=\"Target\", kind=\"count\", palette=\"ch:.25\", data=data_train,legend_out=True)\n",
    "plt2.set_xticklabels([\"Dropout\",\"Enrolled\",\"Graduate\"])"
   ]
  },
  {
   "cell_type": "markdown",
   "id": "41b4d7e6",
   "metadata": {
    "id": "41b4d7e6",
    "papermill": {
     "duration": 0.014712,
     "end_time": "2022-05-26T21:44:32.476507",
     "exception": false,
     "start_time": "2022-05-26T21:44:32.461795",
     "status": "completed"
    },
    "tags": []
   },
   "source": [
    "#### On remarque les classes Dropout et notamment Enrolled sont sous représentées par rapport à la classe graduate. Cela peut poser des problèmes pour l'apprentissages de ses deux sous-classes. De plus, les variables Dropout / Enrolled sont les classes que l'on veut essentiellement prédire (en effet on veut etre capable de prédire l'echec / echec partiel pour comprendre ses raisons)."
   ]
  },
  {
   "cell_type": "markdown",
   "id": "f296a5ff",
   "metadata": {
    "id": "f296a5ff",
    "papermill": {
     "duration": 0.014931,
     "end_time": "2022-05-26T21:44:32.505858",
     "exception": false,
     "start_time": "2022-05-26T21:44:32.490927",
     "status": "completed"
    },
    "tags": []
   },
   "source": [
    "## 3) Features Engineering"
   ]
  },
  {
   "cell_type": "markdown",
   "id": "c9c58842",
   "metadata": {
    "id": "c9c58842",
    "papermill": {
     "duration": 0.01399,
     "end_time": "2022-05-26T21:44:32.534196",
     "exception": false,
     "start_time": "2022-05-26T21:44:32.520206",
     "status": "completed"
    },
    "tags": []
   },
   "source": [
    "#### On veut connaitre les variables qui ont le plus d'importance pour la prédiction des classes. Pour cela on va regarder les features importances à l'aide d'une RandomForest. On commence par diviser notre dataset en deux, un jeu pour l'apprentissage et un autre pour la validation. On prend 20% pour la validation car on à peu de données.\n",
    "\n",
    "#### On standardise les données pour aider à l'apprentissage."
   ]
  },
  {
   "cell_type": "code",
   "execution_count": null,
   "id": "83c1e1f0",
   "metadata": {
    "execution": {
     "iopub.execute_input": "2022-05-26T21:44:32.565303Z",
     "iopub.status.busy": "2022-05-26T21:44:32.564863Z",
     "iopub.status.idle": "2022-05-26T21:44:32.590180Z",
     "shell.execute_reply": "2022-05-26T21:44:32.589189Z"
    },
    "id": "83c1e1f0",
    "papermill": {
     "duration": 0.044014,
     "end_time": "2022-05-26T21:44:32.592694",
     "exception": false,
     "start_time": "2022-05-26T21:44:32.548680",
     "status": "completed"
    },
    "tags": []
   },
   "outputs": [],
   "source": [
    "from sklearn.model_selection import train_test_split\n",
    "\n",
    "X=data_train.drop(\"Target\",axis=1)\n",
    "y=data_train.Target\n",
    "\n",
    "from sklearn.preprocessing import StandardScaler\n",
    "X[X.columns]=StandardScaler().fit_transform(X)\n",
    "\n",
    "X_train, X_test, y_train,y_test = train_test_split(X,y,test_size=0.20)"
   ]
  },
  {
   "cell_type": "markdown",
   "id": "13f45b69",
   "metadata": {
    "id": "13f45b69",
    "papermill": {
     "duration": 0.013842,
     "end_time": "2022-05-26T21:44:32.620798",
     "exception": false,
     "start_time": "2022-05-26T21:44:32.606956",
     "status": "completed"
    },
    "tags": []
   },
   "source": [
    "#### On regarde la répartition des classes pour les deux ensembles de données."
   ]
  },
  {
   "cell_type": "code",
   "execution_count": null,
   "id": "540985cf",
   "metadata": {
    "execution": {
     "iopub.execute_input": "2022-05-26T21:44:32.651702Z",
     "iopub.status.busy": "2022-05-26T21:44:32.650522Z",
     "iopub.status.idle": "2022-05-26T21:44:32.662447Z",
     "shell.execute_reply": "2022-05-26T21:44:32.661405Z"
    },
    "id": "540985cf",
    "outputId": "2147b64b-28bd-41e2-d4a0-fe660db6fbd1",
    "papermill": {
     "duration": 0.029685,
     "end_time": "2022-05-26T21:44:32.664727",
     "exception": false,
     "start_time": "2022-05-26T21:44:32.635042",
     "status": "completed"
    },
    "tags": []
   },
   "outputs": [
    {
     "data": {
      "text/plain": [
       "2    0.514540\n",
       "0    0.312601\n",
       "1    0.172859\n",
       "Name: Target, dtype: float64"
      ]
     },
     "execution_count": 10,
     "metadata": {},
     "output_type": "execute_result"
    }
   ],
   "source": [
    "y_train.value_counts(normalize=True)"
   ]
  },
  {
   "cell_type": "code",
   "execution_count": null,
   "id": "10682f74",
   "metadata": {
    "execution": {
     "iopub.execute_input": "2022-05-26T21:44:32.695546Z",
     "iopub.status.busy": "2022-05-26T21:44:32.694491Z",
     "iopub.status.idle": "2022-05-26T21:44:32.703699Z",
     "shell.execute_reply": "2022-05-26T21:44:32.702703Z"
    },
    "id": "10682f74",
    "outputId": "dbd94cba-3b55-4fae-86cb-1f5c293ca4d6",
    "papermill": {
     "duration": 0.026689,
     "end_time": "2022-05-26T21:44:32.705756",
     "exception": false,
     "start_time": "2022-05-26T21:44:32.679067",
     "status": "completed"
    },
    "tags": []
   },
   "outputs": [
    {
     "data": {
      "text/plain": [
       "2    0.474194\n",
       "0    0.335484\n",
       "1    0.190323\n",
       "Name: Target, dtype: float64"
      ]
     },
     "execution_count": 11,
     "metadata": {},
     "output_type": "execute_result"
    }
   ],
   "source": [
    "y_test.value_counts(normalize=True)"
   ]
  },
  {
   "cell_type": "markdown",
   "id": "31c3a719",
   "metadata": {
    "id": "31c3a719",
    "papermill": {
     "duration": 0.014108,
     "end_time": "2022-05-26T21:44:32.734375",
     "exception": false,
     "start_time": "2022-05-26T21:44:32.720267",
     "status": "completed"
    },
    "tags": []
   },
   "source": [
    "#### On obtient une répartition similaire entre les deux jeux de données."
   ]
  },
  {
   "cell_type": "markdown",
   "id": "64114ddc",
   "metadata": {
    "id": "64114ddc",
    "papermill": {
     "duration": 0.014163,
     "end_time": "2022-05-26T21:44:32.763540",
     "exception": false,
     "start_time": "2022-05-26T21:44:32.749377",
     "status": "completed"
    },
    "tags": []
   },
   "source": [
    "#### Maintenant on regarde l'importance des variables en utilisant l'attribut d'une random forest et la méthode permutation."
   ]
  },
  {
   "cell_type": "code",
   "execution_count": null,
   "id": "5b634f1c",
   "metadata": {
    "execution": {
     "iopub.execute_input": "2022-05-26T21:44:32.794841Z",
     "iopub.status.busy": "2022-05-26T21:44:32.793665Z",
     "iopub.status.idle": "2022-05-26T21:44:46.361466Z",
     "shell.execute_reply": "2022-05-26T21:44:46.360351Z"
    },
    "id": "5b634f1c",
    "outputId": "fef2a91a-42c4-4450-e9b4-254937480da5",
    "papermill": {
     "duration": 13.585831,
     "end_time": "2022-05-26T21:44:46.363749",
     "exception": false,
     "start_time": "2022-05-26T21:44:32.777918",
     "status": "completed"
    },
    "tags": []
   },
   "outputs": [
    {
     "data": {
      "image/png": "[encoded data removed]",
      "text/plain": [
       "<Figure size 864x720 with 1 Axes>"
      ]
     },
     "metadata": {
      "needs_background": "light"
     },
     "output_type": "display_data"
    }
   ],
   "source": [
    "from sklearn.ensemble import RandomForestClassifier\n",
    "from sklearn.metrics import r2_score\n",
    "from rfpimp import permutation_importances\n",
    "from matplotlib import pyplot\n",
    "\n",
    "def r2(rf, X_train, y_train):\n",
    "    return r2_score(y_train, rf.predict(X_train))\n",
    "\n",
    "def var_imp_plot(imp_df, title):\n",
    "    imp_df.columns = ['feature', 'feature_importance']\n",
    "    fig, ax = pyplot.subplots(figsize=(12,10))\n",
    "    sns.barplot(ax=ax,x = 'feature_importance', y = 'feature', data = imp_df, orient = 'h', color = 'royalblue') \\\n",
    "       .set_title(title, fontsize = 20)\n",
    "    \n",
    "forest =RandomForestClassifier(n_estimators=400,criterion = \"entropy\",n_jobs=-1,bootstrap=True)\n",
    "forest.fit(X_train, y_train)\n",
    "\n",
    "perm_imp_rfpimp = permutation_importances(forest,X_train, y_train, r2)\n",
    "perm_imp_rfpimp.reset_index(drop = False, inplace = True)\n",
    "\n",
    "var_imp_plot(perm_imp_rfpimp, 'Importance des features par permutation RF')"
   ]
  },
  {
   "cell_type": "markdown",
   "id": "d0d6ca22",
   "metadata": {
    "id": "d0d6ca22",
    "papermill": {
     "duration": 0.016033,
     "end_time": "2022-05-26T21:44:46.396438",
     "exception": false,
     "start_time": "2022-05-26T21:44:46.380405",
     "status": "completed"
    },
    "tags": []
   },
   "source": [
    "#### On affiche les variables les plus importantes pour ce problème de classification.\n",
    "\n",
    "#### On observe que des  variables ont une importance nulle. Ici on utilise la méthode permutation du feature_importance. D'après la littérature c'est une méthode robuste en général pour comprendre l'importance des features.\n",
    "\n",
    "#### Faire attention ici entre les liens entre les variables, de plus comme la classe graduate est sur représenté on imagine que l'importance des variables est influencé aussi par cette classe.\n",
    "\n",
    "#### On peut éventuellement faire une sélection de feature à partir de ces résultats."
   ]
  },
  {
   "cell_type": "code",
   "execution_count": null,
   "id": "56673f0c",
   "metadata": {
    "execution": {
     "iopub.execute_input": "2022-05-26T21:44:46.429461Z",
     "iopub.status.busy": "2022-05-26T21:44:46.429027Z",
     "iopub.status.idle": "2022-05-26T21:44:46.433495Z",
     "shell.execute_reply": "2022-05-26T21:44:46.432598Z"
    },
    "id": "56673f0c",
    "papermill": {
     "duration": 0.024276,
     "end_time": "2022-05-26T21:44:46.436498",
     "exception": false,
     "start_time": "2022-05-26T21:44:46.412222",
     "status": "completed"
    },
    "tags": []
   },
   "outputs": [],
   "source": [
    "# colums_drop=list(perm_imp_rfpimp[perm_imp_rfpimp[\"feature_importance\"]==0][\"feature\"])\n",
    "\n",
    "# X_train.drop(colums_drop,axis=1,inplace=True)\n",
    "# X_test.drop(colums_drop,axis=1,inplace=True)"
   ]
  },
  {
   "cell_type": "markdown",
   "id": "8a5b9d53",
   "metadata": {
    "id": "8a5b9d53",
    "papermill": {
     "duration": 0.014874,
     "end_time": "2022-05-26T21:44:46.466935",
     "exception": false,
     "start_time": "2022-05-26T21:44:46.452061",
     "status": "completed"
    },
    "tags": []
   },
   "source": [
    "## 4) Premiers modèles\n",
    "\n",
    "#### On se concentre sur des modèles de type boosting qui semble etre les plus efficace dans les problèmes de classifications avec des classes déséquilibrées (et après des test c'était effectivement le cas).\n",
    "\n",
    "### RandomForest"
   ]
  },
  {
   "cell_type": "code",
   "execution_count": null,
   "id": "ade589fc",
   "metadata": {
    "execution": {
     "iopub.execute_input": "2022-05-26T21:44:46.498961Z",
     "iopub.status.busy": "2022-05-26T21:44:46.498531Z",
     "iopub.status.idle": "2022-05-26T21:44:55.893726Z",
     "shell.execute_reply": "2022-05-26T21:44:55.892659Z"
    },
    "id": "ade589fc",
    "outputId": "c2b34dbe-05ec-474f-ef0a-51fc4032ca21",
    "papermill": {
     "duration": 9.414135,
     "end_time": "2022-05-26T21:44:55.896283",
     "exception": false,
     "start_time": "2022-05-26T21:44:46.482148",
     "status": "completed"
    },
    "tags": []
   },
   "outputs": [
    {
     "name": "stdout",
     "output_type": "stream",
     "text": [
      "Le score F_1 pour la classe Dropout est de  0.797\n",
      "Le score F_1 pour la classe Enrolled est de  0.367\n",
      "Le score F_1 pour la classe Graduate est de  0.837\n",
      "\n",
      "Le score F_1 global (en prenant en compte la taille des classes) est de  0.734\n",
      "\n",
      "Apprentissage sur l'ensemble train : \n",
      "Score F_1 par classe sur l'ensemble d'apprentissage :  [1. 1. 1.]\n",
      "Le score F_1 global sur l'ensemble d'apprentissage : 1.0\n",
      "\n",
      "La matrice de confusion : \n",
      "\n"
     ]
    },
    {
     "data": {
      "image/png": "[encoded data removed]",
      "text/plain": [
       "<Figure size 432x288 with 2 Axes>"
      ]
     },
     "metadata": {
      "needs_background": "light"
     },
     "output_type": "display_data"
    },
    {
     "data": {
      "image/png": "[encoded data removed]",
      "text/plain": [
       "<Figure size 720x432 with 1 Axes>"
      ]
     },
     "metadata": {
      "needs_background": "light"
     },
     "output_type": "display_data"
    }
   ],
   "source": [
    "from sklearn.ensemble import RandomForestClassifier\n",
    "\n",
    "rfB = RandomForestClassifier(n_estimators=400)#On crée notre RandomForest\n",
    "rfB.fit(X_train,y_train)#On la fit à nos données\n",
    "rfB_pred =rfB.predict(X_test)# On prédit nos données\n",
    "\n",
    "score_f1(y_test,rfB_pred) #Score\n",
    "sur_apprentissage(y_train,rfB,X_train) #Overfitting\n",
    "matrice_conf(y_test,rfB_pred) #Matrice de confusion\n",
    "\n",
    "plot_multiclass_roc(RandomForestClassifier(n_estimators=400), X_test, y_test,3,X_train,y_train)"
   ]
  },
  {
   "cell_type": "markdown",
   "id": "337382f5",
   "metadata": {
    "id": "337382f5",
    "papermill": {
     "duration": 0.015876,
     "end_time": "2022-05-26T21:44:55.928476",
     "exception": false,
     "start_time": "2022-05-26T21:44:55.912600",
     "status": "completed"
    },
    "tags": []
   },
   "source": [
    "#### On obtient un score F_1 Global encourageant pour un premier modèle. Mais on remarque les difficultées d'apprentissage des classes Dropout et Enrolled (surtout Enrolled). On le voit bien aussi sur la courbe ROC-AUC. On remarque aussi de l'overfitting qui est classique avec ce genre de modèle.\n",
    "\n",
    "### Gradient Boosting"
   ]
  },
  {
   "cell_type": "code",
   "execution_count": null,
   "id": "b9fd330e",
   "metadata": {
    "execution": {
     "iopub.execute_input": "2022-05-26T21:44:55.963352Z",
     "iopub.status.busy": "2022-05-26T21:44:55.962953Z",
     "iopub.status.idle": "2022-05-26T21:45:02.894599Z",
     "shell.execute_reply": "2022-05-26T21:45:02.893583Z"
    },
    "id": "b9fd330e",
    "outputId": "1d506894-979e-4cb7-abd3-55f93fcc47f7",
    "papermill": {
     "duration": 6.951767,
     "end_time": "2022-05-26T21:45:02.896744",
     "exception": false,
     "start_time": "2022-05-26T21:44:55.944977",
     "status": "completed"
    },
    "tags": []
   },
   "outputs": [
    {
     "name": "stdout",
     "output_type": "stream",
     "text": [
      "Le score F_1 pour la classe Dropout est de  0.789\n",
      "Le score F_1 pour la classe Enrolled est de  0.418\n",
      "Le score F_1 pour la classe Graduate est de  0.829\n",
      "\n",
      "Le score F_1 global (en prenant en compte la taille des classes) est de  0.737\n",
      "\n",
      "Apprentissage sur l'ensemble train : \n",
      "Score F_1 par classe sur l'ensemble d'apprentissage :  [0.99 0.98 0.99]\n",
      "Le score F_1 global sur l'ensemble d'apprentissage : 0.99\n",
      "\n",
      "La matrice de confusion : \n",
      "\n"
     ]
    },
    {
     "data": {
      "image/png": "[encoded data removed]",
      "text/plain": [
       "<Figure size 432x288 with 2 Axes>"
      ]
     },
     "metadata": {
      "needs_background": "light"
     },
     "output_type": "display_data"
    }
   ],
   "source": [
    "import xgboost as xgb\n",
    "\n",
    "model = xgb.XGBClassifier( \n",
    "                      learning_rate=0.1,  \n",
    "                      colsample_bytree = 0.4,\n",
    "                      subsample = 0.8,\n",
    "                     eval_metric='mlogloss', \n",
    "                      n_estimators=400, \n",
    "                      reg_alpha = 0.1,\n",
    "                      max_depth=12, gamma=1)\n",
    "model.fit(X_train, y_train)\n",
    "y_pred = model.predict(X_test)\n",
    "\n",
    "score_f1(y_test,y_pred) #Score\n",
    "sur_apprentissage(y_train,model,X_train) #Overfitting\n",
    "matrice_conf(y_test,y_pred) #Matrice de confusion"
   ]
  },
  {
   "cell_type": "markdown",
   "id": "28826912",
   "metadata": {
    "id": "28826912",
    "papermill": {
     "duration": 0.016659,
     "end_time": "2022-05-26T21:45:02.930690",
     "exception": false,
     "start_time": "2022-05-26T21:45:02.914031",
     "status": "completed"
    },
    "tags": []
   },
   "source": [
    "#### On utilise le package XgBoost qui propose une descende de gradient optimisé. On observe des résultats similaire à la RandomForest. On pourrait tuner le modèle XGBoost qui peut etre sensible à certains paramètres. On ne peut afficher la courbe ROC-AUC car le modèle ne fait pas partie de sklearn.\n",
    "\n",
    "#### On obtient des bons modèles pour la prédiction de la classe Graduate, mais des modèles moins perfomants pour les autres classes sous représentées. Essayons d'améliorer cela. "
   ]
  },
  {
   "cell_type": "markdown",
   "id": "0cf2ddb3",
   "metadata": {
    "id": "0cf2ddb3",
    "papermill": {
     "duration": 0.017117,
     "end_time": "2022-05-26T21:45:02.964703",
     "exception": false,
     "start_time": "2022-05-26T21:45:02.947586",
     "status": "completed"
    },
    "tags": []
   },
   "source": [
    "## 5) Optimisation des modèles.\n",
    "\n",
    "#### Pour améliorer la prédiction des classes sous représentées, une bonne méthode d'après la littérature est l'utilisation de Oversampling et Undersampling pour obtenir des classes équilibrées (surtout la méthode SMOTE).\n",
    "\n",
    "#### On utilise le package Imblearn pour perfomer ces techniques."
   ]
  },
  {
   "cell_type": "code",
   "execution_count": null,
   "id": "9479670f",
   "metadata": {
    "execution": {
     "iopub.execute_input": "2022-05-26T21:45:03.001324Z",
     "iopub.status.busy": "2022-05-26T21:45:03.000261Z",
     "iopub.status.idle": "2022-05-26T21:45:12.946164Z",
     "shell.execute_reply": "2022-05-26T21:45:12.944694Z"
    },
    "id": "9479670f",
    "papermill": {
     "duration": 9.968257,
     "end_time": "2022-05-26T21:45:12.950012",
     "exception": false,
     "start_time": "2022-05-26T21:45:02.981755",
     "status": "completed"
    },
    "tags": []
   },
   "outputs": [],
   "source": [
    "count = y.value_counts()\n",
    "n_samples = int(count.median())\n",
    "\n",
    "from imblearn.under_sampling import ClusterCentroids\n",
    "from imblearn.over_sampling import SMOTE\n",
    "def sampling_strategy(X,y,n_samples, t='majority'):\n",
    "    target_classes = ''\n",
    "    if t == 'majority':\n",
    "        target_classes = y.value_counts() > n_samples\n",
    "    elif t == 'minority':\n",
    "        target_classes = y.value_counts() < n_samples\n",
    "    tc = target_classes[target_classes == True].index\n",
    "    #target_classes_all = y.value_counts().index\n",
    "    sampling_strategy = {}\n",
    "    for target in tc:\n",
    "        sampling_strategy[target] = n_samples\n",
    "    return sampling_strategy\n",
    "\n",
    "\n",
    "under_sampler = ClusterCentroids(sampling_strategy=sampling_strategy(X_train,y_train,n_samples,t='majority'))\n",
    "X_under, y_under = under_sampler.fit_resample(X_train,y_train)\n",
    "\n",
    "\n",
    "over_sampler = SMOTE(sampling_strategy=sampling_strategy(X_under, y_under,n_samples, t='minority'),k_neighbors=2)\n",
    "X_bal, y_bal = over_sampler.fit_resample(X_under, y_under)\n",
    "\n",
    "X_train,y_train=X_bal,y_bal"
   ]
  },
  {
   "cell_type": "code",
   "execution_count": null,
   "id": "0d4b9a24",
   "metadata": {
    "execution": {
     "iopub.execute_input": "2022-05-26T21:45:13.015468Z",
     "iopub.status.busy": "2022-05-26T21:45:13.014801Z",
     "iopub.status.idle": "2022-05-26T21:45:13.034059Z",
     "shell.execute_reply": "2022-05-26T21:45:13.032817Z"
    },
    "id": "0d4b9a24",
    "outputId": "d578bd3c-8311-4ad4-94e1-e976de5508b0",
    "papermill": {
     "duration": 0.057003,
     "end_time": "2022-05-26T21:45:13.038551",
     "exception": false,
     "start_time": "2022-05-26T21:45:12.981548",
     "status": "completed"
    },
    "tags": []
   },
   "outputs": [
    {
     "data": {
      "text/plain": [
       "0    0.333333\n",
       "1    0.333333\n",
       "2    0.333333\n",
       "Name: Target, dtype: float64"
      ]
     },
     "execution_count": 17,
     "metadata": {},
     "output_type": "execute_result"
    }
   ],
   "source": [
    "y_train.value_counts(normalize=True)"
   ]
  },
  {
   "cell_type": "markdown",
   "id": "aa1f0c11",
   "metadata": {
    "id": "aa1f0c11",
    "papermill": {
     "duration": 0.016757,
     "end_time": "2022-05-26T21:45:13.075382",
     "exception": false,
     "start_time": "2022-05-26T21:45:13.058625",
     "status": "completed"
    },
    "tags": []
   },
   "source": [
    "#### Après l'application d'oversampling et Undersampling on obtient des classes équilbrées.\n",
    "\n",
    "#### Pour augmenter la robustesse et éviter l'overfitting de nos modèles, on décide d'entrainer 4 modèles et d'utiliser un voting classifier. \n",
    "\n",
    "### RandomForest"
   ]
  },
  {
   "cell_type": "code",
   "execution_count": null,
   "id": "ec79115f",
   "metadata": {
    "execution": {
     "iopub.execute_input": "2022-05-26T21:45:13.110795Z",
     "iopub.status.busy": "2022-05-26T21:45:13.110330Z",
     "iopub.status.idle": "2022-05-26T21:45:25.300394Z",
     "shell.execute_reply": "2022-05-26T21:45:25.299269Z"
    },
    "id": "ec79115f",
    "outputId": "d23f0289-42a1-439c-9af6-99dd5b45d6d9",
    "papermill": {
     "duration": 12.210679,
     "end_time": "2022-05-26T21:45:25.302847",
     "exception": false,
     "start_time": "2022-05-26T21:45:13.092168",
     "status": "completed"
    },
    "tags": []
   },
   "outputs": [
    {
     "name": "stdout",
     "output_type": "stream",
     "text": [
      "Le score F_1 pour la classe Dropout est de  0.789\n",
      "Le score F_1 pour la classe Enrolled est de  0.473\n",
      "Le score F_1 pour la classe Graduate est de  0.833\n",
      "\n",
      "Le score F_1 global (en prenant en compte la taille des classes) est de  0.75\n",
      "\n",
      "Apprentissage sur l'ensemble train : \n",
      "Score F_1 par classe sur l'ensemble d'apprentissage :  [1. 1. 1.]\n",
      "Le score F_1 global sur l'ensemble d'apprentissage : 1.0\n",
      "\n",
      "La matrice de confusion : \n",
      "\n"
     ]
    },
    {
     "data": {
      "image/png": "[encoded data removed]",
      "text/plain": [
       "<Figure size 432x288 with 2 Axes>"
      ]
     },
     "metadata": {
      "needs_background": "light"
     },
     "output_type": "display_data"
    },
    {
     "data": {
      "image/png": "[encoded data removed]",
      "text/plain": [
       "<Figure size 720x432 with 1 Axes>"
      ]
     },
     "metadata": {
      "needs_background": "light"
     },
     "output_type": "display_data"
    }
   ],
   "source": [
    "from sklearn.ensemble import RandomForestClassifier\n",
    "\n",
    "rfB = RandomForestClassifier(n_estimators=400)#On crée notre RandomForest\n",
    "rfB.fit(X_train,y_train)#On la fit à nos données\n",
    "rfB_pred =rfB.predict(X_test)# On prédit nos données\n",
    "\n",
    "score_f1(y_test,rfB_pred) #Score\n",
    "sur_apprentissage(y_train,rfB,X_train) #Overfitting\n",
    "matrice_conf(y_test,rfB_pred) #Matrice de confusion\n",
    "\n",
    "plot_multiclass_roc(RandomForestClassifier(n_estimators=400), X_test, y_test,3,X_train,y_train)"
   ]
  },
  {
   "cell_type": "markdown",
   "id": "94c705c2",
   "metadata": {
    "id": "94c705c2",
    "papermill": {
     "duration": 0.018155,
     "end_time": "2022-05-26T21:45:25.340320",
     "exception": false,
     "start_time": "2022-05-26T21:45:25.322165",
     "status": "completed"
    },
    "tags": []
   },
   "source": [
    "#### On obtient de meilleurs résultats sur les classes Enrolled / Graduate qui était le but souhaiter."
   ]
  },
  {
   "cell_type": "markdown",
   "id": "b6c9add6",
   "metadata": {
    "id": "b6c9add6",
    "papermill": {
     "duration": 0.019072,
     "end_time": "2022-05-26T21:45:25.377914",
     "exception": false,
     "start_time": "2022-05-26T21:45:25.358842",
     "status": "completed"
    },
    "tags": []
   },
   "source": [
    "### ExtraTrees"
   ]
  },
  {
   "cell_type": "code",
   "execution_count": null,
   "id": "df58b8ab",
   "metadata": {
    "execution": {
     "iopub.execute_input": "2022-05-26T21:45:25.416249Z",
     "iopub.status.busy": "2022-05-26T21:45:25.415803Z",
     "iopub.status.idle": "2022-05-26T21:45:34.128377Z",
     "shell.execute_reply": "2022-05-26T21:45:34.127197Z"
    },
    "id": "df58b8ab",
    "outputId": "37a69b6b-3ad4-415e-d140-4bb23ebc86c4",
    "papermill": {
     "duration": 8.734876,
     "end_time": "2022-05-26T21:45:34.131100",
     "exception": false,
     "start_time": "2022-05-26T21:45:25.396224",
     "status": "completed"
    },
    "tags": []
   },
   "outputs": [
    {
     "name": "stdout",
     "output_type": "stream",
     "text": [
      "Le score F_1 pour la classe Dropout est de  0.788\n",
      "Le score F_1 pour la classe Enrolled est de  0.488\n",
      "Le score F_1 pour la classe Graduate est de  0.838\n",
      "\n",
      "Le score F_1 global (en prenant en compte la taille des classes) est de  0.755\n",
      "\n",
      "Apprentissage sur l'ensemble train : \n",
      "Score F_1 par classe sur l'ensemble d'apprentissage :  [1. 1. 1.]\n",
      "Le score F_1 global sur l'ensemble d'apprentissage : 1.0\n",
      "\n",
      "La matrice de confusion : \n",
      "\n"
     ]
    },
    {
     "data": {
      "image/png": "[encoded data removed]",
      "text/plain": [
       "<Figure size 432x288 with 2 Axes>"
      ]
     },
     "metadata": {
      "needs_background": "light"
     },
     "output_type": "display_data"
    },
    {
     "data": {
      "image/png": "[encoded data removed]",
      "text/plain": [
       "<Figure size 720x432 with 1 Axes>"
      ]
     },
     "metadata": {
      "needs_background": "light"
     },
     "output_type": "display_data"
    }
   ],
   "source": [
    "from sklearn.ensemble import ExtraTreesClassifier\n",
    "\n",
    "etc = ExtraTreesClassifier(n_estimators=400)\n",
    "\n",
    "etc.fit(X_train, y_train)\n",
    "\n",
    "y_etc=etc.predict(X_test)\n",
    "score_f1(y_test,y_etc)\n",
    "sur_apprentissage(y_train,etc,X_train) #Overfitting\n",
    "matrice_conf(y_test,y_etc) #Matrice de confusion\n",
    "\n",
    "plot_multiclass_roc(ExtraTreesClassifier(n_estimators=400), X_test, y_test,3,X_train,y_train)"
   ]
  },
  {
   "cell_type": "markdown",
   "id": "4ae52431",
   "metadata": {
    "id": "4ae52431",
    "papermill": {
     "duration": 0.021087,
     "end_time": "2022-05-26T21:45:34.174389",
     "exception": false,
     "start_time": "2022-05-26T21:45:34.153302",
     "status": "completed"
    },
    "tags": []
   },
   "source": [
    "### Gradient Boosting"
   ]
  },
  {
   "cell_type": "code",
   "execution_count": null,
   "id": "53326e5a",
   "metadata": {
    "execution": {
     "iopub.execute_input": "2022-05-26T21:45:34.222083Z",
     "iopub.status.busy": "2022-05-26T21:45:34.221651Z",
     "iopub.status.idle": "2022-05-26T21:45:43.582771Z",
     "shell.execute_reply": "2022-05-26T21:45:43.581507Z"
    },
    "id": "53326e5a",
    "outputId": "6a16f5cc-2d51-4402-eaad-744e7216279c",
    "papermill": {
     "duration": 9.387061,
     "end_time": "2022-05-26T21:45:43.585280",
     "exception": false,
     "start_time": "2022-05-26T21:45:34.198219",
     "status": "completed"
    },
    "tags": []
   },
   "outputs": [
    {
     "name": "stdout",
     "output_type": "stream",
     "text": [
      "Le score F_1 pour la classe Dropout est de  0.785\n",
      "Le score F_1 pour la classe Enrolled est de  0.505\n",
      "Le score F_1 pour la classe Graduate est de  0.835\n",
      "\n",
      "Le score F_1 global (en prenant en compte la taille des classes) est de  0.756\n",
      "\n",
      "Apprentissage sur l'ensemble train : \n",
      "Score F_1 par classe sur l'ensemble d'apprentissage :  [0.99 0.99 0.99]\n",
      "Le score F_1 global sur l'ensemble d'apprentissage : 0.99\n",
      "\n",
      "La matrice de confusion : \n",
      "\n"
     ]
    },
    {
     "data": {
      "image/png": "[encoded data removed]",
      "text/plain": [
       "<Figure size 432x288 with 2 Axes>"
      ]
     },
     "metadata": {
      "needs_background": "light"
     },
     "output_type": "display_data"
    }
   ],
   "source": [
    "import xgboost as xgb\n",
    "\n",
    "model = xgb.XGBClassifier( \n",
    "                      learning_rate=0.1,  \n",
    "                      colsample_bytree = 0.4,\n",
    "                      subsample = 0.8,\n",
    "                     eval_metric='mlogloss', \n",
    "                      n_estimators=400, \n",
    "                      reg_alpha = 0.1,\n",
    "                      max_depth=12, gamma=1)\n",
    "model.fit(X_train, y_train)\n",
    "y_pred = model.predict(X_test)\n",
    "\n",
    "score_f1(y_test,y_pred) #Score\n",
    "sur_apprentissage(y_train,model,X_train) #Overfitting\n",
    "matrice_conf(y_test,y_pred) #Matrice de confusion\n",
    "\n"
   ]
  },
  {
   "cell_type": "markdown",
   "id": "6ddeb37b",
   "metadata": {
    "id": "6ddeb37b",
    "papermill": {
     "duration": 0.019381,
     "end_time": "2022-05-26T21:45:43.624572",
     "exception": false,
     "start_time": "2022-05-26T21:45:43.605191",
     "status": "completed"
    },
    "tags": []
   },
   "source": [
    "### Régression Logistique\n",
    "#### Pour éviter le sur-apprentissage des algos de type boosting on entraine aussi une régression logistique qui est une méthode linéaire."
   ]
  },
  {
   "cell_type": "code",
   "execution_count": null,
   "id": "b3f01036",
   "metadata": {
    "execution": {
     "iopub.execute_input": "2022-05-26T21:45:43.665551Z",
     "iopub.status.busy": "2022-05-26T21:45:43.665099Z",
     "iopub.status.idle": "2022-05-26T21:46:23.129767Z",
     "shell.execute_reply": "2022-05-26T21:46:23.128506Z"
    },
    "id": "b3f01036",
    "outputId": "ef6fcfd6-5c24-41f6-975b-78fb8358ddf2",
    "papermill": {
     "duration": 39.488322,
     "end_time": "2022-05-26T21:46:23.132524",
     "exception": false,
     "start_time": "2022-05-26T21:45:43.644202",
     "status": "completed"
    },
    "tags": []
   },
   "outputs": [
    {
     "name": "stdout",
     "output_type": "stream",
     "text": [
      "Le score F_1 pour la classe Dropout est de  0.753\n",
      "Le score F_1 pour la classe Enrolled est de  0.522\n",
      "Le score F_1 pour la classe Graduate est de  0.822\n",
      "\n",
      "Le score F_1 global (en prenant en compte la taille des classes) est de  0.742\n",
      "\n",
      "Apprentissage sur l'ensemble train : \n",
      "Score F_1 par classe sur l'ensemble d'apprentissage :  [0.78 0.68 0.79]\n",
      "Le score F_1 global sur l'ensemble d'apprentissage : 0.75\n",
      "\n",
      "La matrice de confusion : \n",
      "\n"
     ]
    },
    {
     "data": {
      "image/png": "[encoded data removed]",
      "text/plain": [
       "<Figure size 432x288 with 2 Axes>"
      ]
     },
     "metadata": {
      "needs_background": "light"
     },
     "output_type": "display_data"
    },
    {
     "data": {
      "image/png": "[encoded data removed]",
      "text/plain": [
       "<Figure size 720x432 with 1 Axes>"
      ]
     },
     "metadata": {
      "needs_background": "light"
     },
     "output_type": "display_data"
    }
   ],
   "source": [
    "from sklearn.model_selection import RandomizedSearchCV\n",
    "from sklearn.pipeline import make_pipeline\n",
    "from sklearn.linear_model import LogisticRegression\n",
    "import scipy as sc\n",
    "\n",
    "pipeline=make_pipeline(LogisticRegression())\n",
    "\n",
    "param_distributions = [{'logisticregression__C': sc.stats.expon(scale=100)}]\n",
    "rs = RandomizedSearchCV(estimator=pipeline, param_distributions = param_distributions,\n",
    "                        cv = 10, scoring = 'roc_auc_ovr_weighted', refit = True, n_jobs = 1,\n",
    "                       random_state=1)\n",
    "\n",
    "rs.fit(X_train, y_train)\n",
    "\n",
    "y_pred=rs.predict(X_test)\n",
    "score_f1(y_test,y_pred)\n",
    "sur_apprentissage(y_train,rs,X_train) #Overfitting\n",
    "matrice_conf(y_test,y_pred) #Matrice de confusion\n",
    "\n",
    "plot_multiclass_roc(rs, X_test, y_test,3,X_train,y_train)"
   ]
  },
  {
   "cell_type": "markdown",
   "id": "3cead4f6",
   "metadata": {
    "id": "3cead4f6",
    "papermill": {
     "duration": 0.020713,
     "end_time": "2022-05-26T21:46:23.175472",
     "exception": false,
     "start_time": "2022-05-26T21:46:23.154759",
     "status": "completed"
    },
    "tags": []
   },
   "source": [
    "### Voting Classifier"
   ]
  },
  {
   "cell_type": "code",
   "execution_count": null,
   "id": "aa7b3467",
   "metadata": {
    "execution": {
     "iopub.execute_input": "2022-05-26T21:46:23.220407Z",
     "iopub.status.busy": "2022-05-26T21:46:23.220004Z",
     "iopub.status.idle": "2022-05-26T21:46:57.955197Z",
     "shell.execute_reply": "2022-05-26T21:46:57.954301Z"
    },
    "id": "aa7b3467",
    "outputId": "87aef590-7f7f-41e8-e6b5-6bdccdd1900a",
    "papermill": {
     "duration": 34.761045,
     "end_time": "2022-05-26T21:46:57.957654",
     "exception": false,
     "start_time": "2022-05-26T21:46:23.196609",
     "status": "completed"
    },
    "tags": []
   },
   "outputs": [
    {
     "name": "stdout",
     "output_type": "stream",
     "text": [
      "Le score F_1 pour la classe Dropout est de  0.792\n",
      "Le score F_1 pour la classe Enrolled est de  0.509\n",
      "Le score F_1 pour la classe Graduate est de  0.838\n",
      "\n",
      "Le score F_1 global (en prenant en compte la taille des classes) est de  0.76\n",
      "\n",
      "Apprentissage sur l'ensemble train : \n",
      "Score F_1 par classe sur l'ensemble d'apprentissage :  [1. 1. 1.]\n",
      "Le score F_1 global sur l'ensemble d'apprentissage : 1.0\n",
      "\n",
      "La matrice de confusion : \n",
      "\n"
     ]
    },
    {
     "data": {
      "image/png": "[encoded data removed]",
      "text/plain": [
       "<Figure size 432x288 with 2 Axes>"
      ]
     },
     "metadata": {
      "needs_background": "light"
     },
     "output_type": "display_data"
    }
   ],
   "source": [
    "from sklearn.ensemble import VotingClassifier\n",
    "\n",
    "vcB = VotingClassifier( #On crée notre VotingClassifier\n",
    " estimators=[('rfB',rfB),(\"xgb\",model),(\"rs\",rs),(\"etc\",etc)],\n",
    "    voting='hard')\n",
    "\n",
    "vcB.fit(X_train,y_train) #On entraine notre modèle\n",
    "\n",
    "vcB_pred =vcB.predict(X_test)# On prédit nos données\n",
    "\n",
    "score_f1(y_test,vcB_pred) #Score\n",
    "sur_apprentissage(y_train,vcB,X_train) #Overfitting\n",
    "matrice_conf(y_test,vcB_pred) #Matrice de confusion"
   ]
  },
  {
   "cell_type": "markdown",
   "id": "7f2624a4",
   "metadata": {
    "id": "7f2624a4",
    "papermill": {
     "duration": 0.020909,
     "end_time": "2022-05-26T21:46:58.000062",
     "exception": false,
     "start_time": "2022-05-26T21:46:57.979153",
     "status": "completed"
    },
    "tags": []
   },
   "source": [
    "#### On utilise le VotingClassifier avec nos 4 modèles ci-dessus."
   ]
  },
  {
   "cell_type": "markdown",
   "id": "e034e35b",
   "metadata": {
    "id": "e034e35b",
    "papermill": {
     "duration": 0.022489,
     "end_time": "2022-05-26T21:46:58.043842",
     "exception": false,
     "start_time": "2022-05-26T21:46:58.021353",
     "status": "completed"
    },
    "tags": []
   },
   "source": [
    "## 5) Prédictions et Conclusion"
   ]
  },
  {
   "cell_type": "markdown",
   "id": "360b471a",
   "metadata": {
    "id": "360b471a",
    "papermill": {
     "duration": 0.020841,
     "end_time": "2022-05-26T21:46:58.087299",
     "exception": false,
     "start_time": "2022-05-26T21:46:58.066458",
     "status": "completed"
    },
    "tags": []
   },
   "source": [
    "#### On remarque que le score F_1 de notre votingClassifier varie de 0.75 à 0.80. On voit que notre modèle ne fait pas d'overfitting. Pour augmenter ce score on pourrait optmimiser les paramètres de certains modèles ou faire un meilleur feature engineering (sélection de variable, création ou ajout de variable)."
   ]
  },
  {
   "cell_type": "markdown",
   "id": "7b4c6ab3",
   "metadata": {
    "id": "7b4c6ab3",
    "papermill": {
     "duration": 0.02199,
     "end_time": "2022-05-26T21:46:58.130193",
     "exception": false,
     "start_time": "2022-05-26T21:46:58.108203",
     "status": "completed"
    },
    "tags": []
   },
   "source": [
    "#### Pour conclure, dans ce projet nous avions un problème de classifications avec des classes déséquilibrées. Sans trop de feature engineering on obtient des score corrects grace à la bonne prédiction de la classe majoritaire (Graduate). Le but d'un problème de classification est aussi la capacité à prédire toute les classes.\n",
    "\n",
    "#### Grace à des techniques de sampling on à réussi l'augmentation de l'apprentissage de ses classes, couplé avec un Voting Classifier on obtient un modèle plus robuste pour la prédiction des 3 classes."
   ]
  }
 ],
 "metadata": {
  "colab": {
   "provenance": []
  },
  "kernelspec": {
   "display_name": "Python 3 (ipykernel)",
   "language": "python",
   "name": "python3"
  },
  "language_info": {
   "codemirror_mode": {
    "name": "ipython",
    "version": 3
   },
   "file_extension": ".py",
   "mimetype": "text/x-python",
   "name": "python",
   "nbconvert_exporter": "python",
   "pygments_lexer": "ipython3",
   "version": "3.9.13"
  },
  "papermill": {
   "default_parameters": {},
   "duration": 176.879933,
   "end_time": "2022-05-26T21:46:59.073875",
   "environment_variables": {},
   "exception": null,
   "input_path": "__notebook__.ipynb",
   "output_path": "__notebook__.ipynb",
   "parameters": {},
   "start_time": "2022-05-26T21:44:02.193942",
   "version": "2.3.4"
  }
 },
 "nbformat": 4,
 "nbformat_minor": 5
}
